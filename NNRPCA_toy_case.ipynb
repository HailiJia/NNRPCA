{
 "cells": [
  {
   "cell_type": "code",
   "execution_count": null,
   "id": "33434db0",
   "metadata": {},
   "outputs": [],
   "source": [
    "import os\n",
    "import sip\n",
    "for t in [\"QDate\", \"QVariant\", \"QDateTime\", \"QTextStream\", \"QString\", \"QTime\", \"QUrl\"]:\n",
    "    sip.setapi(t, 2)\n",
    "import numpy as np\n",
    "import hyperspy.api as hs\n",
    "import matplotlib.pyplot as plt\n",
    "from scipy.linalg import svd"
   ]
  },
  {
   "cell_type": "code",
   "execution_count": null,
   "id": "f3a75bb3-934d-465e-be25-ccb0e0fe981b",
   "metadata": {},
   "outputs": [],
   "source": [
    "%matplotlib qt5"
   ]
  },
  {
   "cell_type": "code",
   "execution_count": null,
   "id": "24379b03-40c8-4275-80f4-0a03575dc6d9",
   "metadata": {},
   "outputs": [],
   "source": [
    "def NNRPCA_2d(Y, lambda_val=1.0, mu=1.0, max_iter=100, rho=1.6):\n",
    "    \n",
    "    m, n = Y.shape\n",
    "\n",
    "    L = np.zeros((m, n))  # Initialize low-rank matrix\n",
    "    S = np.zeros((m, n))  # Initialize sparse matrix\n",
    "    E = np.zeros((m, n))  # Initialize auxiliary variable\n",
    "\n",
    "    for iter in range(max_iter):\n",
    "        # Update low-rank component (L) using Singular Value Thresholding (SVT)\n",
    "        U, Sigma, Vt = svd(Y - S + (1 / rho) * E, full_matrices=False)\n",
    "        shrinkage = np.maximum(Sigma - 1.0 / rho, 0)\n",
    "        L = np.dot(U, np.dot(np.diag(shrinkage), Vt))\n",
    "\n",
    "        # Update sparse component (S) with soft thresholding\n",
    "        S = np.maximum(Y - L + (1 / rho) * E - lambda_val / rho, 0)\n",
    "\n",
    "        # Update auxiliary variable (E)\n",
    "        E = E + rho * (Y - L - S)\n",
    "\n",
    "        # Apply nonnegative constraint with penalty mu\n",
    "        L = np.maximum(L - mu, 0)\n",
    "\n",
    "    return L, S"
   ]
  },
  {
   "cell_type": "code",
   "execution_count": null,
   "id": "f3f04a6b-1ce7-4086-a6b0-60f3eb6a147a",
   "metadata": {},
   "outputs": [],
   "source": [
    "s = hs.load('/your/path/try.dm3')"
   ]
  },
  {
   "cell_type": "code",
   "execution_count": null,
   "id": "b64cb9bb-79ad-4d80-b966-a05592e5e0f0",
   "metadata": {},
   "outputs": [],
   "source": [
    "s.plot()\n",
    "print(s.data.shape)\n",
    "image_x, image_y, spec_len = s.data.shape"
   ]
  },
  {
   "cell_type": "code",
   "execution_count": null,
   "id": "98b3e8ff-fa30-499f-9fd8-e00ddf41aa56",
   "metadata": {},
   "outputs": [],
   "source": [
    "data = np.array(s)\n",
    "data -= Y.min()"
   ]
  },
  {
   "cell_type": "code",
   "execution_count": null,
   "id": "3f4bef8b-7535-430c-a0e3-7d5822972a85",
   "metadata": {},
   "outputs": [],
   "source": [
    "data = s.data.reshape(image_x*image_y, spec_len)"
   ]
  },
  {
   "cell_type": "code",
   "execution_count": null,
   "id": "0f4b82f4-29a1-4051-8656-03bbf252879d",
   "metadata": {},
   "outputs": [],
   "source": [
    "lambda_val = 1 / np.sqrt(np.max(data.shape))  # regularization parameter\n",
    "mu = 1.25 / np.linalg.norm(data, 2)  # penalty parameter\n",
    "max_iter = 2  # maximum number of iterations\n",
    "result_L, result_S = NNRPCA_2d(data, lambda_val, mu, max_iter)"
   ]
  },
  {
   "cell_type": "code",
   "execution_count": null,
   "id": "6770995e",
   "metadata": {},
   "outputs": [],
   "source": [
    "denoised_s = s.deepcopy()\n",
    "noise_s = s.deepcopy()"
   ]
  },
  {
   "cell_type": "code",
   "execution_count": null,
   "id": "e709d61e",
   "metadata": {},
   "outputs": [],
   "source": [
    "denoised_s.data = result_L.reshape((image_x, image_y, spec_len))\n",
    "denoised_s.plot()"
   ]
  },
  {
   "cell_type": "code",
   "execution_count": null,
   "id": "872d3e4f",
   "metadata": {},
   "outputs": [],
   "source": [
    "noise_s.data = result_S.reshape((image_x, image_y, spec_len))\n",
    "noise_s.plot()"
   ]
  },
  {
   "cell_type": "code",
   "execution_count": null,
   "id": "cd6b6d11",
   "metadata": {
    "scrolled": true
   },
   "outputs": [],
   "source": [
    "s_decomp = denoised_s.deepcopy()\n",
    "s_decomp.decomposition(method='NMF')\n",
    "s_decomp.plot_explained_variance_ratio(n=10)\n",
    "s_decomp.plot_decomposition_loadings(comp_ids=9, axes_decor=\"off\")"
   ]
  }
 ],
 "metadata": {
  "kernelspec": {
   "display_name": "Python 3 (ipykernel)",
   "language": "python",
   "name": "python3"
  },
  "language_info": {
   "codemirror_mode": {
    "name": "ipython",
    "version": 3
   },
   "file_extension": ".py",
   "mimetype": "text/x-python",
   "name": "python",
   "nbconvert_exporter": "python",
   "pygments_lexer": "ipython3",
   "version": "3.12.2"
  }
 },
 "nbformat": 4,
 "nbformat_minor": 5
}
